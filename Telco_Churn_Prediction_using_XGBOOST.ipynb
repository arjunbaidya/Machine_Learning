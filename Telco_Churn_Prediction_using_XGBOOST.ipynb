{
 "cells": [
  {
   "cell_type": "markdown",
   "id": "4b4b9180",
   "metadata": {},
   "source": [
    "***Business Problem:*** A fictional telco company that provided home phone and Internet services to 7043 customers in California in Q3. The dataset indicates which customers have left, stayed, or signed up for their service. Multiple important demographics are included for each customer, as well as a Satisfaction Score, Churn Score, and Customer Lifetime Value (CLTV) index, etc. The company wants to know which cutomers are likely to stop using their services.\n",
    "\n",
    "**Solution:** Develop a predictive model to predict which customers are likely to churn."
   ]
  },
  {
   "cell_type": "markdown",
   "id": "2a08e8ee",
   "metadata": {},
   "source": [
    "***Data Description***\n",
    "\n",
    "In this dataset there are 7043 observations with 33 variables. The description of the variables are as follows:-\n",
    "\n",
    "CustomerID: A unique ID that identifies each customer.\n",
    "\n",
    "Count: A value used in reporting/dashboarding to sum up the number of customers in a filtered set.\n",
    "\n",
    "Country: The country of the customer’s primary residence.\n",
    "\n",
    "State: The state of the customer’s primary residence.\n",
    "\n",
    "City: The city of the customer’s primary residence.\n",
    "\n",
    "Zip Code: The zip code of the customer’s primary residence.\n",
    "\n",
    "Lat Long: The combined latitude and longitude of the customer’s primary residence.\n",
    "\n",
    "Latitude: The latitude of the customer’s primary residence.\n",
    "\n",
    "Longitude: The longitude of the customer’s primary residence.\n",
    "\n",
    "Gender: The customer’s gender: Male, Female\n",
    "\n",
    "Senior Citizen: Indicates if the customer is 65 or older: Yes, No\n",
    "\n",
    "Partner: Indicate if the customer has a partner: Yes, No\n",
    "\n",
    "Dependents: Indicates if the customer lives with any dependents: Yes, No. Dependents could be children, parents, grandparents, etc.\n",
    "\n",
    "Tenure Months: Indicates the total amount of months that the customer has been with the company by the end of the quarter specified above.\n",
    "\n",
    "Phone Service: Indicates if the customer subscribes to home phone service with the company: Yes, No\n",
    "\n",
    "Multiple Lines: Indicates if the customer subscribes to multiple telephone lines with the company: Yes, No\n",
    "\n",
    "Internet Service: Indicates if the customer subscribes to Internet service with the company: No, DSL, Fiber Optic, Cable.\n",
    "\n",
    "Online Security: Indicates if the customer subscribes to an additional online security service provided by the company: Yes, No\n",
    "\n",
    "Online Backup: Indicates if the customer subscribes to an additional online backup service provided by the company: Yes, No\n",
    "\n",
    "Device Protection: Indicates if the customer subscribes to an additional device protection plan for their Internet equipment provided by the company: Yes, No\n",
    "\n",
    "Tech Support: Indicates if the customer subscribes to an additional technical support plan from the company with reduced wait times: Yes, No\n",
    "\n",
    "Streaming TV: Indicates if the customer uses their Internet service to stream television programing from a third party provider: Yes, No. The company does not charge an additional fee for this service.\n",
    "\n",
    "Streaming Movies: Indicates if the customer uses their Internet service to stream movies from a third party provider: Yes, No. The company does not charge an additional fee for this service.\n",
    "\n",
    "Contract: Indicates the customer’s current contract type: Month-to-Month, One Year, Two Year.\n",
    "\n",
    "Paperless Billing: Indicates if the customer has chosen paperless billing: Yes, No\n",
    "\n",
    "Payment Method: Indicates how the customer pays their bill: Bank Withdrawal, Credit Card, Mailed Check\n",
    "\n",
    "Monthly Charge: Indicates the customer’s current total monthly charge for all their services from the company.\n",
    "\n",
    "Total Charges: Indicates the customer’s total charges, calculated to the end of the quarter specified above.\n",
    "\n",
    "Churn Label: Yes = the customer left the company this quarter. No = the customer remained with the company. Directly related to Churn Value.\n",
    "\n",
    "Churn Value: 1 = the customer left the company this quarter. 0 = the customer remained with the company. Directly related to Churn Label.\n",
    "\n",
    "Churn Score: A value from 0-100 that is calculated using the predictive tool IBM SPSS Modeler. The model incorporates multiple factors known to cause churn. The higher the score, the more likely the customer will churn.\n",
    "\n",
    "CLTV: Customer Lifetime Value. A predicted CLTV is calculated using corporate formulas and existing data. The higher the value, the more valuable the customer. High value customers should be monitored for churn.\n",
    "\n",
    "Churn Reason: A customer’s specific reason for leaving the company. Directly related to Churn Category.\n",
    "\n",
    "**Dataset source:** https://www.kaggle.com/datasets/yeanzc/telco-customer-churn-ibm-dataset"
   ]
  },
  {
   "cell_type": "markdown",
   "id": "548e9279",
   "metadata": {},
   "source": [
    "**Solution developed by**: Arjun Baidya (Email: arjun.p.baidya@gmail.com)"
   ]
  },
  {
   "cell_type": "code",
   "execution_count": 1,
   "id": "6f9b7e62",
   "metadata": {},
   "outputs": [],
   "source": [
    "# Importing necessary modules\n",
    "\n",
    "import numpy as np\n",
    "import pandas as pd\n",
    "import xgboost\n",
    "from sklearn.model_selection import train_test_split, GridSearchCV, StratifiedKFold\n",
    "from sklearn.metrics import confusion_matrix, plot_confusion_matrix, ConfusionMatrixDisplay\n",
    "from sklearn.metrics import roc_auc_score, accuracy_score, make_scorer, f1_score, classification_report\n",
    "from sklearn.preprocessing import PowerTransformer\n",
    "from imblearn.over_sampling import SMOTE\n",
    "from imblearn.pipeline import make_pipeline\n",
    "import matplotlib.pyplot as plt\n",
    "import seaborn as sns"
   ]
  },
  {
   "cell_type": "code",
   "execution_count": 2,
   "id": "40b8a24f",
   "metadata": {},
   "outputs": [
    {
     "data": {
      "text/html": [
       "<div>\n",
       "<style scoped>\n",
       "    .dataframe tbody tr th:only-of-type {\n",
       "        vertical-align: middle;\n",
       "    }\n",
       "\n",
       "    .dataframe tbody tr th {\n",
       "        vertical-align: top;\n",
       "    }\n",
       "\n",
       "    .dataframe thead th {\n",
       "        text-align: right;\n",
       "    }\n",
       "</style>\n",
       "<table border=\"1\" class=\"dataframe\">\n",
       "  <thead>\n",
       "    <tr style=\"text-align: right;\">\n",
       "      <th></th>\n",
       "      <th>CustomerID</th>\n",
       "      <th>Count</th>\n",
       "      <th>Country</th>\n",
       "      <th>State</th>\n",
       "      <th>City</th>\n",
       "      <th>Zip Code</th>\n",
       "      <th>Lat Long</th>\n",
       "      <th>Latitude</th>\n",
       "      <th>Longitude</th>\n",
       "      <th>Gender</th>\n",
       "      <th>...</th>\n",
       "      <th>Contract</th>\n",
       "      <th>Paperless Billing</th>\n",
       "      <th>Payment Method</th>\n",
       "      <th>Monthly Charges</th>\n",
       "      <th>Total Charges</th>\n",
       "      <th>Churn Label</th>\n",
       "      <th>Churn Value</th>\n",
       "      <th>Churn Score</th>\n",
       "      <th>CLTV</th>\n",
       "      <th>Churn Reason</th>\n",
       "    </tr>\n",
       "  </thead>\n",
       "  <tbody>\n",
       "    <tr>\n",
       "      <th>0</th>\n",
       "      <td>3668-QPYBK</td>\n",
       "      <td>1</td>\n",
       "      <td>United States</td>\n",
       "      <td>California</td>\n",
       "      <td>Los Angeles</td>\n",
       "      <td>90003</td>\n",
       "      <td>33.964131, -118.272783</td>\n",
       "      <td>33.964131</td>\n",
       "      <td>-118.272783</td>\n",
       "      <td>Male</td>\n",
       "      <td>...</td>\n",
       "      <td>Month-to-month</td>\n",
       "      <td>Yes</td>\n",
       "      <td>Mailed check</td>\n",
       "      <td>53.85</td>\n",
       "      <td>108.15</td>\n",
       "      <td>Yes</td>\n",
       "      <td>1</td>\n",
       "      <td>86</td>\n",
       "      <td>3239</td>\n",
       "      <td>Competitor made better offer</td>\n",
       "    </tr>\n",
       "    <tr>\n",
       "      <th>1</th>\n",
       "      <td>9237-HQITU</td>\n",
       "      <td>1</td>\n",
       "      <td>United States</td>\n",
       "      <td>California</td>\n",
       "      <td>Los Angeles</td>\n",
       "      <td>90005</td>\n",
       "      <td>34.059281, -118.30742</td>\n",
       "      <td>34.059281</td>\n",
       "      <td>-118.307420</td>\n",
       "      <td>Female</td>\n",
       "      <td>...</td>\n",
       "      <td>Month-to-month</td>\n",
       "      <td>Yes</td>\n",
       "      <td>Electronic check</td>\n",
       "      <td>70.70</td>\n",
       "      <td>151.65</td>\n",
       "      <td>Yes</td>\n",
       "      <td>1</td>\n",
       "      <td>67</td>\n",
       "      <td>2701</td>\n",
       "      <td>Moved</td>\n",
       "    </tr>\n",
       "    <tr>\n",
       "      <th>2</th>\n",
       "      <td>9305-CDSKC</td>\n",
       "      <td>1</td>\n",
       "      <td>United States</td>\n",
       "      <td>California</td>\n",
       "      <td>Los Angeles</td>\n",
       "      <td>90006</td>\n",
       "      <td>34.048013, -118.293953</td>\n",
       "      <td>34.048013</td>\n",
       "      <td>-118.293953</td>\n",
       "      <td>Female</td>\n",
       "      <td>...</td>\n",
       "      <td>Month-to-month</td>\n",
       "      <td>Yes</td>\n",
       "      <td>Electronic check</td>\n",
       "      <td>99.65</td>\n",
       "      <td>820.5</td>\n",
       "      <td>Yes</td>\n",
       "      <td>1</td>\n",
       "      <td>86</td>\n",
       "      <td>5372</td>\n",
       "      <td>Moved</td>\n",
       "    </tr>\n",
       "    <tr>\n",
       "      <th>3</th>\n",
       "      <td>7892-POOKP</td>\n",
       "      <td>1</td>\n",
       "      <td>United States</td>\n",
       "      <td>California</td>\n",
       "      <td>Los Angeles</td>\n",
       "      <td>90010</td>\n",
       "      <td>34.062125, -118.315709</td>\n",
       "      <td>34.062125</td>\n",
       "      <td>-118.315709</td>\n",
       "      <td>Female</td>\n",
       "      <td>...</td>\n",
       "      <td>Month-to-month</td>\n",
       "      <td>Yes</td>\n",
       "      <td>Electronic check</td>\n",
       "      <td>104.80</td>\n",
       "      <td>3046.05</td>\n",
       "      <td>Yes</td>\n",
       "      <td>1</td>\n",
       "      <td>84</td>\n",
       "      <td>5003</td>\n",
       "      <td>Moved</td>\n",
       "    </tr>\n",
       "    <tr>\n",
       "      <th>4</th>\n",
       "      <td>0280-XJGEX</td>\n",
       "      <td>1</td>\n",
       "      <td>United States</td>\n",
       "      <td>California</td>\n",
       "      <td>Los Angeles</td>\n",
       "      <td>90015</td>\n",
       "      <td>34.039224, -118.266293</td>\n",
       "      <td>34.039224</td>\n",
       "      <td>-118.266293</td>\n",
       "      <td>Male</td>\n",
       "      <td>...</td>\n",
       "      <td>Month-to-month</td>\n",
       "      <td>Yes</td>\n",
       "      <td>Bank transfer (automatic)</td>\n",
       "      <td>103.70</td>\n",
       "      <td>5036.3</td>\n",
       "      <td>Yes</td>\n",
       "      <td>1</td>\n",
       "      <td>89</td>\n",
       "      <td>5340</td>\n",
       "      <td>Competitor had better devices</td>\n",
       "    </tr>\n",
       "  </tbody>\n",
       "</table>\n",
       "<p>5 rows × 33 columns</p>\n",
       "</div>"
      ],
      "text/plain": [
       "   CustomerID  Count        Country       State         City  Zip Code  \\\n",
       "0  3668-QPYBK      1  United States  California  Los Angeles     90003   \n",
       "1  9237-HQITU      1  United States  California  Los Angeles     90005   \n",
       "2  9305-CDSKC      1  United States  California  Los Angeles     90006   \n",
       "3  7892-POOKP      1  United States  California  Los Angeles     90010   \n",
       "4  0280-XJGEX      1  United States  California  Los Angeles     90015   \n",
       "\n",
       "                 Lat Long   Latitude   Longitude  Gender  ...        Contract  \\\n",
       "0  33.964131, -118.272783  33.964131 -118.272783    Male  ...  Month-to-month   \n",
       "1   34.059281, -118.30742  34.059281 -118.307420  Female  ...  Month-to-month   \n",
       "2  34.048013, -118.293953  34.048013 -118.293953  Female  ...  Month-to-month   \n",
       "3  34.062125, -118.315709  34.062125 -118.315709  Female  ...  Month-to-month   \n",
       "4  34.039224, -118.266293  34.039224 -118.266293    Male  ...  Month-to-month   \n",
       "\n",
       "  Paperless Billing             Payment Method  Monthly Charges Total Charges  \\\n",
       "0               Yes               Mailed check            53.85        108.15   \n",
       "1               Yes           Electronic check            70.70        151.65   \n",
       "2               Yes           Electronic check            99.65         820.5   \n",
       "3               Yes           Electronic check           104.80       3046.05   \n",
       "4               Yes  Bank transfer (automatic)           103.70        5036.3   \n",
       "\n",
       "  Churn Label Churn Value Churn Score  CLTV                   Churn Reason  \n",
       "0         Yes           1          86  3239   Competitor made better offer  \n",
       "1         Yes           1          67  2701                          Moved  \n",
       "2         Yes           1          86  5372                          Moved  \n",
       "3         Yes           1          84  5003                          Moved  \n",
       "4         Yes           1          89  5340  Competitor had better devices  \n",
       "\n",
       "[5 rows x 33 columns]"
      ]
     },
     "execution_count": 2,
     "metadata": {},
     "output_type": "execute_result"
    }
   ],
   "source": [
    "# Let's import the dataset into a Pandas dataframe\n",
    "\n",
    "df = pd.read_excel('Telco_customer_churn.xlsx')\n",
    "df.head()"
   ]
  },
  {
   "cell_type": "markdown",
   "id": "bc3d6e6d",
   "metadata": {},
   "source": [
    "The last 3 columns/features and 'Churn Label' contains exit interview information which will not be available during prediction so we should not use them. We will drop these columns."
   ]
  },
  {
   "cell_type": "code",
   "execution_count": 3,
   "id": "a1c45642",
   "metadata": {},
   "outputs": [],
   "source": [
    "df.drop(['Churn Label','Churn Score','CLTV','Churn Reason'], axis=1, inplace=True)"
   ]
  },
  {
   "cell_type": "markdown",
   "id": "664d7dd4",
   "metadata": {},
   "source": [
    "### Le's begin EDA"
   ]
  },
  {
   "cell_type": "code",
   "execution_count": 4,
   "id": "810eeb65",
   "metadata": {},
   "outputs": [
    {
     "name": "stdout",
     "output_type": "stream",
     "text": [
      "<class 'pandas.core.frame.DataFrame'>\n",
      "RangeIndex: 7043 entries, 0 to 7042\n",
      "Data columns (total 29 columns):\n",
      " #   Column             Non-Null Count  Dtype  \n",
      "---  ------             --------------  -----  \n",
      " 0   CustomerID         7043 non-null   object \n",
      " 1   Count              7043 non-null   int64  \n",
      " 2   Country            7043 non-null   object \n",
      " 3   State              7043 non-null   object \n",
      " 4   City               7043 non-null   object \n",
      " 5   Zip Code           7043 non-null   int64  \n",
      " 6   Lat Long           7043 non-null   object \n",
      " 7   Latitude           7043 non-null   float64\n",
      " 8   Longitude          7043 non-null   float64\n",
      " 9   Gender             7043 non-null   object \n",
      " 10  Senior Citizen     7043 non-null   object \n",
      " 11  Partner            7043 non-null   object \n",
      " 12  Dependents         7043 non-null   object \n",
      " 13  Tenure Months      7043 non-null   int64  \n",
      " 14  Phone Service      7043 non-null   object \n",
      " 15  Multiple Lines     7043 non-null   object \n",
      " 16  Internet Service   7043 non-null   object \n",
      " 17  Online Security    7043 non-null   object \n",
      " 18  Online Backup      7043 non-null   object \n",
      " 19  Device Protection  7043 non-null   object \n",
      " 20  Tech Support       7043 non-null   object \n",
      " 21  Streaming TV       7043 non-null   object \n",
      " 22  Streaming Movies   7043 non-null   object \n",
      " 23  Contract           7043 non-null   object \n",
      " 24  Paperless Billing  7043 non-null   object \n",
      " 25  Payment Method     7043 non-null   object \n",
      " 26  Monthly Charges    7043 non-null   float64\n",
      " 27  Total Charges      7043 non-null   object \n",
      " 28  Churn Value        7043 non-null   int64  \n",
      "dtypes: float64(3), int64(4), object(22)\n",
      "memory usage: 1.6+ MB\n"
     ]
    }
   ],
   "source": [
    "# Let's take a look at the variables in the dataset\n",
    "\n",
    "df.info()"
   ]
  },
  {
   "cell_type": "markdown",
   "id": "f20c9c11",
   "metadata": {},
   "source": [
    "Total_Charges feature is of the type object which is strange so we will inspect it later."
   ]
  },
  {
   "cell_type": "markdown",
   "id": "97e899f8",
   "metadata": {},
   "source": [
    "Let's check out the unique values of the features"
   ]
  },
  {
   "cell_type": "code",
   "execution_count": 5,
   "id": "68aa4d7a",
   "metadata": {},
   "outputs": [
    {
     "name": "stdout",
     "output_type": "stream",
     "text": [
      "\n",
      "CustomerID:\n",
      "['3668-QPYBK' '9237-HQITU' '9305-CDSKC' ... '2234-XADUH' '4801-JZAZL'\n",
      " '3186-AJIEK']\n",
      "\n",
      "Count:\n",
      "[1]\n",
      "\n",
      "Country:\n",
      "['United States']\n",
      "\n",
      "State:\n",
      "['California']\n",
      "\n",
      "City:\n",
      "['Los Angeles' 'Beverly Hills' 'Huntington Park' ... 'Standish' 'Tulelake'\n",
      " 'Olympic Valley']\n",
      "\n",
      "Zip Code:\n",
      "[90003 90005 90006 ... 96128 96134 96146]\n",
      "\n",
      "Lat Long:\n",
      "['33.964131, -118.272783' '34.059281, -118.30742' '34.048013, -118.293953'\n",
      " ... '40.346634, -120.386422' '41.813521, -121.492666'\n",
      " '39.191797, -120.212401']\n",
      "\n",
      "Latitude:\n",
      "[33.964131 34.059281 34.048013 ... 40.346634 41.813521 39.191797]\n",
      "\n",
      "Longitude:\n",
      "[-118.272783 -118.30742  -118.293953 ... -120.386422 -121.492666\n",
      " -120.212401]\n",
      "\n",
      "Gender:\n",
      "['Male' 'Female']\n",
      "\n",
      "Senior Citizen:\n",
      "['No' 'Yes']\n",
      "\n",
      "Partner:\n",
      "['No' 'Yes']\n",
      "\n",
      "Dependents:\n",
      "['No' 'Yes']\n",
      "\n",
      "Tenure Months:\n",
      "[ 2  8 28 49 10  1 47 17  5 34 11 15 18  9  7 12 25 68 55 37  3 27 20  4\n",
      " 58 53 13  6 19 59 16 52 24 32 38 54 43 63 21 69 22 61 60 48 40 23 39 35\n",
      " 56 65 33 30 45 46 62 70 50 44 71 26 14 41 66 64 29 42 67 51 31 57 36 72\n",
      "  0]\n",
      "\n",
      "Phone Service:\n",
      "['Yes' 'No']\n",
      "\n",
      "Multiple Lines:\n",
      "['No' 'Yes' 'No phone service']\n",
      "\n",
      "Internet Service:\n",
      "['DSL' 'Fiber optic' 'No']\n",
      "\n",
      "Online Security:\n",
      "['Yes' 'No' 'No internet service']\n",
      "\n",
      "Online Backup:\n",
      "['Yes' 'No' 'No internet service']\n",
      "\n",
      "Device Protection:\n",
      "['No' 'Yes' 'No internet service']\n",
      "\n",
      "Tech Support:\n",
      "['No' 'Yes' 'No internet service']\n",
      "\n",
      "Streaming TV:\n",
      "['No' 'Yes' 'No internet service']\n",
      "\n",
      "Streaming Movies:\n",
      "['No' 'Yes' 'No internet service']\n",
      "\n",
      "Contract:\n",
      "['Month-to-month' 'Two year' 'One year']\n",
      "\n",
      "Paperless Billing:\n",
      "['Yes' 'No']\n",
      "\n",
      "Payment Method:\n",
      "['Mailed check' 'Electronic check' 'Bank transfer (automatic)'\n",
      " 'Credit card (automatic)']\n",
      "\n",
      "Monthly Charges:\n",
      "[ 53.85  70.7   99.65 ... 108.35  63.1   78.7 ]\n",
      "\n",
      "Total Charges:\n",
      "[108.15 151.65 820.5 ... 7362.9 346.45 6844.5]\n",
      "\n",
      "Churn Value:\n",
      "[1 0]\n"
     ]
    }
   ],
   "source": [
    "for col in df.columns:\n",
    "    print(f\"\\n{col}:\")\n",
    "    print(df[col].unique())"
   ]
  },
  {
   "cell_type": "markdown",
   "id": "1a511df5",
   "metadata": {},
   "source": [
    "Clearly, the features count, country and State have only 1 value in them, therefore, they won't be of any use for modelling. We also do not need 'Customer ID' since it's unique for each customer and 'Lat Long' feature is only a combination of Latitude and Longitude will is already present as seperate columns. We also don't need Zipcode since we already have locational information via Latitude and Longitude columns."
   ]
  },
  {
   "cell_type": "code",
   "execution_count": 6,
   "id": "09cd5d3e",
   "metadata": {},
   "outputs": [],
   "source": [
    "df.drop(['Count','Country','State','Lat Long','Zip Code','CustomerID'], axis=1, inplace=True)"
   ]
  },
  {
   "cell_type": "markdown",
   "id": "2784d3d7",
   "metadata": {},
   "source": [
    "Since we want to draw a tree later on we have to replace the blank spaces in the city names in the City column. We would do it for all the columns so we apply the replacement of blank spaces with undescore dataframe-wide."
   ]
  },
  {
   "cell_type": "code",
   "execution_count": 7,
   "id": "110fc6ed",
   "metadata": {},
   "outputs": [],
   "source": [
    "df.replace(' ', '_', regex=True, inplace=True)"
   ]
  },
  {
   "cell_type": "code",
   "execution_count": 8,
   "id": "86902d13",
   "metadata": {},
   "outputs": [
    {
     "data": {
      "text/plain": [
       "array(['Los_Angeles', 'Beverly_Hills', 'Huntington_Park', ..., 'Standish',\n",
       "       'Tulelake', 'Olympic_Valley'], dtype=object)"
      ]
     },
     "execution_count": 8,
     "metadata": {},
     "output_type": "execute_result"
    }
   ],
   "source": [
    "# Let's check a few city names\n",
    "\n",
    "df['City'].unique()"
   ]
  },
  {
   "cell_type": "markdown",
   "id": "3ba7756c",
   "metadata": {},
   "source": [
    "We will also replace the white spaces in the column/feature names"
   ]
  },
  {
   "cell_type": "code",
   "execution_count": 9,
   "id": "b939f707",
   "metadata": {},
   "outputs": [
    {
     "data": {
      "text/plain": [
       "Index(['City', 'Latitude', 'Longitude', 'Gender', 'Senior_Citizen', 'Partner',\n",
       "       'Dependents', 'Tenure_Months', 'Phone_Service', 'Multiple_Lines',\n",
       "       'Internet_Service', 'Online_Security', 'Online_Backup',\n",
       "       'Device_Protection', 'Tech_Support', 'Streaming_TV', 'Streaming_Movies',\n",
       "       'Contract', 'Paperless_Billing', 'Payment_Method', 'Monthly_Charges',\n",
       "       'Total_Charges', 'Churn_Value'],\n",
       "      dtype='object')"
      ]
     },
     "execution_count": 9,
     "metadata": {},
     "output_type": "execute_result"
    }
   ],
   "source": [
    "df.columns = df.columns.str.replace(' ', '_')\n",
    "df.columns"
   ]
  },
  {
   "cell_type": "markdown",
   "id": "03905526",
   "metadata": {},
   "source": [
    "**Handling missing data**"
   ]
  },
  {
   "cell_type": "markdown",
   "id": "3089bc54",
   "metadata": {},
   "source": [
    "We are going to use XGBOOST later on and we know it has a default behaviour while dealing with missing values. It requires missing values to be set to 0."
   ]
  },
  {
   "cell_type": "code",
   "execution_count": 10,
   "id": "3562d5c9",
   "metadata": {},
   "outputs": [
    {
     "data": {
      "text/plain": [
       "City                 0\n",
       "Latitude             0\n",
       "Longitude            0\n",
       "Gender               0\n",
       "Senior_Citizen       0\n",
       "Partner              0\n",
       "Dependents           0\n",
       "Tenure_Months        0\n",
       "Phone_Service        0\n",
       "Multiple_Lines       0\n",
       "Internet_Service     0\n",
       "Online_Security      0\n",
       "Online_Backup        0\n",
       "Device_Protection    0\n",
       "Tech_Support         0\n",
       "Streaming_TV         0\n",
       "Streaming_Movies     0\n",
       "Contract             0\n",
       "Paperless_Billing    0\n",
       "Payment_Method       0\n",
       "Monthly_Charges      0\n",
       "Total_Charges        0\n",
       "Churn_Value          0\n",
       "dtype: int64"
      ]
     },
     "execution_count": 10,
     "metadata": {},
     "output_type": "execute_result"
    }
   ],
   "source": [
    "# Let's check which variables have missing values in them\n",
    "\n",
    "df.isnull().sum()"
   ]
  },
  {
   "cell_type": "markdown",
   "id": "438a9f66",
   "metadata": {},
   "source": [
    "There are no missing values but we must also check if there are surrogate values for missing values."
   ]
  },
  {
   "cell_type": "code",
   "execution_count": 11,
   "id": "952b1c4a",
   "metadata": {},
   "outputs": [
    {
     "data": {
      "text/plain": [
       "array([108.15, 151.65, 820.5, ..., 7362.9, 346.45, 6844.5], dtype=object)"
      ]
     },
     "execution_count": 11,
     "metadata": {},
     "output_type": "execute_result"
    }
   ],
   "source": [
    "# Let's now inspect the Total_Charges feature a bit\n",
    "\n",
    "df['Total_Charges'].unique()"
   ]
  },
  {
   "cell_type": "markdown",
   "id": "dba5395e",
   "metadata": {},
   "source": [
    "This should be a numeric feature so let's cast it to float type"
   ]
  },
  {
   "cell_type": "code",
   "execution_count": 12,
   "id": "91c932af",
   "metadata": {},
   "outputs": [],
   "source": [
    "#df['Total_Charges'].astype('float64')"
   ]
  },
  {
   "cell_type": "markdown",
   "id": "9cbec60c",
   "metadata": {},
   "source": [
    "I have commented out the above statement. However, when I ran it earlier it threw the following error: ***ValueError: could not convert string to float: '_'***"
   ]
  },
  {
   "cell_type": "markdown",
   "id": "f03e27cc",
   "metadata": {},
   "source": [
    "So there are string values '_' in this feature which needs to be sanitized"
   ]
  },
  {
   "cell_type": "code",
   "execution_count": 13,
   "id": "d5bca513",
   "metadata": {},
   "outputs": [
    {
     "data": {
      "text/plain": [
       "11"
      ]
     },
     "execution_count": 13,
     "metadata": {},
     "output_type": "execute_result"
    }
   ],
   "source": [
    "len(df.loc[df['Total_Charges']=='_'])"
   ]
  },
  {
   "cell_type": "code",
   "execution_count": 14,
   "id": "63e0da48",
   "metadata": {},
   "outputs": [],
   "source": [
    "# So there are 11 such values and we need to set them to 0\n",
    "\n",
    "df['Total_Charges'].replace('_', 0, inplace=True)"
   ]
  },
  {
   "cell_type": "code",
   "execution_count": 15,
   "id": "7a2540ce",
   "metadata": {},
   "outputs": [
    {
     "data": {
      "text/plain": [
       "0"
      ]
     },
     "execution_count": 15,
     "metadata": {},
     "output_type": "execute_result"
    }
   ],
   "source": [
    "# Re-checking for ' ' values\n",
    "\n",
    "len(df.loc[df['Total_Charges']=='_'])"
   ]
  },
  {
   "cell_type": "code",
   "execution_count": 16,
   "id": "94049c81",
   "metadata": {},
   "outputs": [],
   "source": [
    "# Converting Totat_Charges from object to float type\n",
    "\n",
    "df['Total_Charges'] = df['Total_Charges'].astype('float64')"
   ]
  },
  {
   "cell_type": "code",
   "execution_count": 17,
   "id": "45f40b16",
   "metadata": {},
   "outputs": [
    {
     "data": {
      "text/plain": [
       "dtype('float64')"
      ]
     },
     "execution_count": 17,
     "metadata": {},
     "output_type": "execute_result"
    }
   ],
   "source": [
    "# Let's recheck the datatype of Totat_Charges\n",
    "\n",
    "df['Total_Charges'].dtype"
   ]
  },
  {
   "cell_type": "markdown",
   "id": "80c692ff",
   "metadata": {},
   "source": [
    "**Descriptive statistics of the numeric variables**"
   ]
  },
  {
   "cell_type": "code",
   "execution_count": 18,
   "id": "c5d74f55",
   "metadata": {},
   "outputs": [
    {
     "data": {
      "text/html": [
       "<div>\n",
       "<style scoped>\n",
       "    .dataframe tbody tr th:only-of-type {\n",
       "        vertical-align: middle;\n",
       "    }\n",
       "\n",
       "    .dataframe tbody tr th {\n",
       "        vertical-align: top;\n",
       "    }\n",
       "\n",
       "    .dataframe thead th {\n",
       "        text-align: right;\n",
       "    }\n",
       "</style>\n",
       "<table border=\"1\" class=\"dataframe\">\n",
       "  <thead>\n",
       "    <tr style=\"text-align: right;\">\n",
       "      <th></th>\n",
       "      <th>Latitude</th>\n",
       "      <th>Longitude</th>\n",
       "      <th>Tenure_Months</th>\n",
       "      <th>Monthly_Charges</th>\n",
       "      <th>Total_Charges</th>\n",
       "      <th>Churn_Value</th>\n",
       "    </tr>\n",
       "  </thead>\n",
       "  <tbody>\n",
       "    <tr>\n",
       "      <th>count</th>\n",
       "      <td>7043.000000</td>\n",
       "      <td>7043.000000</td>\n",
       "      <td>7043.000000</td>\n",
       "      <td>7043.000000</td>\n",
       "      <td>7043.000000</td>\n",
       "      <td>7043.000000</td>\n",
       "    </tr>\n",
       "    <tr>\n",
       "      <th>mean</th>\n",
       "      <td>36.282441</td>\n",
       "      <td>-119.798880</td>\n",
       "      <td>32.371149</td>\n",
       "      <td>64.761692</td>\n",
       "      <td>2279.734304</td>\n",
       "      <td>0.265370</td>\n",
       "    </tr>\n",
       "    <tr>\n",
       "      <th>std</th>\n",
       "      <td>2.455723</td>\n",
       "      <td>2.157889</td>\n",
       "      <td>24.559481</td>\n",
       "      <td>30.090047</td>\n",
       "      <td>2266.794470</td>\n",
       "      <td>0.441561</td>\n",
       "    </tr>\n",
       "    <tr>\n",
       "      <th>min</th>\n",
       "      <td>32.555828</td>\n",
       "      <td>-124.301372</td>\n",
       "      <td>0.000000</td>\n",
       "      <td>18.250000</td>\n",
       "      <td>0.000000</td>\n",
       "      <td>0.000000</td>\n",
       "    </tr>\n",
       "    <tr>\n",
       "      <th>25%</th>\n",
       "      <td>34.030915</td>\n",
       "      <td>-121.815412</td>\n",
       "      <td>9.000000</td>\n",
       "      <td>35.500000</td>\n",
       "      <td>398.550000</td>\n",
       "      <td>0.000000</td>\n",
       "    </tr>\n",
       "    <tr>\n",
       "      <th>50%</th>\n",
       "      <td>36.391777</td>\n",
       "      <td>-119.730885</td>\n",
       "      <td>29.000000</td>\n",
       "      <td>70.350000</td>\n",
       "      <td>1394.550000</td>\n",
       "      <td>0.000000</td>\n",
       "    </tr>\n",
       "    <tr>\n",
       "      <th>75%</th>\n",
       "      <td>38.224869</td>\n",
       "      <td>-118.043237</td>\n",
       "      <td>55.000000</td>\n",
       "      <td>89.850000</td>\n",
       "      <td>3786.600000</td>\n",
       "      <td>1.000000</td>\n",
       "    </tr>\n",
       "    <tr>\n",
       "      <th>max</th>\n",
       "      <td>41.962127</td>\n",
       "      <td>-114.192901</td>\n",
       "      <td>72.000000</td>\n",
       "      <td>118.750000</td>\n",
       "      <td>8684.800000</td>\n",
       "      <td>1.000000</td>\n",
       "    </tr>\n",
       "  </tbody>\n",
       "</table>\n",
       "</div>"
      ],
      "text/plain": [
       "          Latitude    Longitude  Tenure_Months  Monthly_Charges  \\\n",
       "count  7043.000000  7043.000000    7043.000000      7043.000000   \n",
       "mean     36.282441  -119.798880      32.371149        64.761692   \n",
       "std       2.455723     2.157889      24.559481        30.090047   \n",
       "min      32.555828  -124.301372       0.000000        18.250000   \n",
       "25%      34.030915  -121.815412       9.000000        35.500000   \n",
       "50%      36.391777  -119.730885      29.000000        70.350000   \n",
       "75%      38.224869  -118.043237      55.000000        89.850000   \n",
       "max      41.962127  -114.192901      72.000000       118.750000   \n",
       "\n",
       "       Total_Charges  Churn_Value  \n",
       "count    7043.000000  7043.000000  \n",
       "mean     2279.734304     0.265370  \n",
       "std      2266.794470     0.441561  \n",
       "min         0.000000     0.000000  \n",
       "25%       398.550000     0.000000  \n",
       "50%      1394.550000     0.000000  \n",
       "75%      3786.600000     1.000000  \n",
       "max      8684.800000     1.000000  "
      ]
     },
     "execution_count": 18,
     "metadata": {},
     "output_type": "execute_result"
    }
   ],
   "source": [
    "df.describe()"
   ]
  },
  {
   "cell_type": "markdown",
   "id": "222c389a",
   "metadata": {},
   "source": [
    "If we look at the Mean and the Standard deviations, then it is quite clear that observations of Tenure_Months, Monthly_Charges and Total_Charges variables are quite spread out."
   ]
  },
  {
   "cell_type": "markdown",
   "id": "50df77be",
   "metadata": {},
   "source": [
    "Let's explore the numeric variables and see their distributions"
   ]
  },
  {
   "cell_type": "code",
   "execution_count": 19,
   "id": "355caa87",
   "metadata": {},
   "outputs": [
    {
     "data": {
      "image/png": "[encoded data removed]",
      "text/plain": [
       "<Figure size 400x300 with 1 Axes>"
      ]
     },
     "metadata": {},
     "output_type": "display_data"
    },
    {
     "data": {
      "image/png": "[encoded data removed]",
      "text/plain": [
       "<Figure size 400x100 with 1 Axes>"
      ]
     },
     "metadata": {},
     "output_type": "display_data"
    }
   ],
   "source": [
    "plt.figure(figsize=(4,3))\n",
    "sns.histplot(x=df[\"Tenure_Months\"]);\n",
    "\n",
    "# Let's check for outliers with a box plot\n",
    "\n",
    "plt.figure(figsize=(4,1))\n",
    "sns.boxplot(x=df[\"Tenure_Months\"]);"
   ]
  },
  {
   "cell_type": "code",
   "execution_count": 20,
   "id": "959f9fc7",
   "metadata": {},
   "outputs": [
    {
     "data": {
      "image/png": "[encoded data removed]",
      "text/plain": [
       "<Figure size 400x300 with 1 Axes>"
      ]
     },
     "metadata": {},
     "output_type": "display_data"
    },
    {
     "data": {
      "image/png": "[encoded data removed]",
      "text/plain": [
       "<Figure size 400x100 with 1 Axes>"
      ]
     },
     "metadata": {},
     "output_type": "display_data"
    }
   ],
   "source": [
    "plt.figure(figsize=(4,3))\n",
    "sns.histplot(x=df[\"Monthly_Charges\"]);\n",
    "\n",
    "# Let's check for outliers with a box plot\n",
    "\n",
    "plt.figure(figsize=(4,1))\n",
    "sns.boxplot(x=df[\"Monthly_Charges\"]);"
   ]
  },
  {
   "cell_type": "code",
   "execution_count": 21,
   "id": "77e3fd7c",
   "metadata": {},
   "outputs": [
    {
     "data": {
      "image/png": "[encoded data removed]",
      "text/plain": [
       "<Figure size 400x300 with 1 Axes>"
      ]
     },
     "metadata": {},
     "output_type": "display_data"
    },
    {
     "data": {
      "image/png": "[encoded data removed]",
      "text/plain": [
       "<Figure size 400x100 with 1 Axes>"
      ]
     },
     "metadata": {},
     "output_type": "display_data"
    }
   ],
   "source": [
    "plt.figure(figsize=(4,3))\n",
    "sns.histplot(x=df[\"Total_Charges\"]);\n",
    "\n",
    "# Let's check for outliers with a box plot\n",
    "\n",
    "plt.figure(figsize=(4,1))\n",
    "sns.boxplot(x=df[\"Total_Charges\"]);"
   ]
  },
  {
   "cell_type": "markdown",
   "id": "5cde9cf4",
   "metadata": {},
   "source": [
    "Clearly, this variable is right-skewed"
   ]
  },
  {
   "cell_type": "markdown",
   "id": "88c3407f",
   "metadata": {},
   "source": [
    "### Feature Transformation"
   ]
  },
  {
   "cell_type": "markdown",
   "id": "85275357",
   "metadata": {},
   "source": [
    "We will now attempt to apply power transformations to the numeric features to make them near normal distribution. By default PowerTransformer will apply 'yeo-johnson' transformation."
   ]
  },
  {
   "cell_type": "code",
   "execution_count": 22,
   "id": "53826d8c",
   "metadata": {},
   "outputs": [],
   "source": [
    "for col in ['Tenure_Months','Monthly_Charges','Total_Charges']:\n",
    "    pt = PowerTransformer()\n",
    "    trans = pt.fit_transform(pd.DataFrame(df[col]))\n",
    "    df[col] = trans.reshape(-1,1)"
   ]
  },
  {
   "cell_type": "code",
   "execution_count": 23,
   "id": "8da67c9c",
   "metadata": {},
   "outputs": [
    {
     "data": {
      "image/png": "[encoded data removed]",
      "text/plain": [
       "<Figure size 400x300 with 1 Axes>"
      ]
     },
     "metadata": {},
     "output_type": "display_data"
    },
    {
     "data": {
      "image/png": "[encoded data removed]",
      "text/plain": [
       "<Figure size 400x300 with 1 Axes>"
      ]
     },
     "metadata": {},
     "output_type": "display_data"
    },
    {
     "data": {
      "image/png": "[encoded data removed]",
      "text/plain": [
       "<Figure size 400x300 with 1 Axes>"
      ]
     },
     "metadata": {},
     "output_type": "display_data"
    }
   ],
   "source": [
    "for col in ['Tenure_Months','Monthly_Charges','Total_Charges']:\n",
    "\n",
    "    plt.figure(figsize=(4,3))\n",
    "    sns.histplot(x=df[col]);"
   ]
  },
  {
   "cell_type": "markdown",
   "id": "e73afa31",
   "metadata": {},
   "source": [
    "**Checking for Correlations amongst the numeric variables**"
   ]
  },
  {
   "cell_type": "code",
   "execution_count": 24,
   "id": "5af9b969",
   "metadata": {},
   "outputs": [
    {
     "data": {
      "image/png": "[encoded data removed]",
      "text/plain": [
       "<Figure size 600x400 with 2 Axes>"
      ]
     },
     "metadata": {},
     "output_type": "display_data"
    }
   ],
   "source": [
    "# Correlation matrix\n",
    "\n",
    "sns.set(style=\"white\", font_scale=1)\n",
    "corr = df.corr()\n",
    "mask = np.triu(np.ones_like(corr, dtype=bool))\n",
    "f, ax = plt.subplots(figsize=(6, 4))\n",
    "cmap = sns.diverging_palette(220, 10, as_cmap=True)\n",
    "ax=sns.heatmap(corr, mask=mask, vmax=1, vmin=-1, center=0,\n",
    "               square=True, linewidths=.5, cmap=cmap,\n",
    "               cbar_kws={\"shrink\": .5}, annot=True, annot_kws={\"size\": 10})\n",
    "cbar=ax.collections[0].colorbar\n",
    "cbar.set_ticks([-1, -0.50, 0, 0.50, 1])"
   ]
  },
  {
   "cell_type": "markdown",
   "id": "5f13e76b",
   "metadata": {},
   "source": [
    "We will be dropping Longitude and Total_Charges since the correlation coefficients are very high."
   ]
  },
  {
   "cell_type": "code",
   "execution_count": 25,
   "id": "66e9aded",
   "metadata": {},
   "outputs": [],
   "source": [
    "df.drop(['Longitude','Total_Charges'], axis=1, inplace=True)"
   ]
  },
  {
   "cell_type": "markdown",
   "id": "d0151ea5",
   "metadata": {},
   "source": [
    "**One-Hot encoding**"
   ]
  },
  {
   "cell_type": "markdown",
   "id": "e376b4fd",
   "metadata": {},
   "source": [
    "Since XGBOOST does not support categorical variables we need to one-hot encode the categorical variables before giving them to XGBOOST"
   ]
  },
  {
   "cell_type": "code",
   "execution_count": 26,
   "id": "f41f368d",
   "metadata": {},
   "outputs": [],
   "source": [
    "categorical_cols =['City', 'Gender', 'Senior_Citizen', 'Partner', 'Dependents', 'Phone_Service',\n",
    "           'Multiple_Lines', 'Internet_Service', 'Online_Security', 'Online_Backup',\n",
    "           'Device_Protection', 'Tech_Support', 'Streaming_TV', 'Streaming_Movies',\n",
    "           'Contract', 'Paperless_Billing', 'Payment_Method']\n",
    "\n",
    "df_encoded = pd.get_dummies(df, columns=categorical_cols, drop_first=True)"
   ]
  },
  {
   "cell_type": "code",
   "execution_count": 27,
   "id": "e1325e7c",
   "metadata": {},
   "outputs": [
    {
     "data": {
      "text/html": [
       "<div>\n",
       "<style scoped>\n",
       "    .dataframe tbody tr th:only-of-type {\n",
       "        vertical-align: middle;\n",
       "    }\n",
       "\n",
       "    .dataframe tbody tr th {\n",
       "        vertical-align: top;\n",
       "    }\n",
       "\n",
       "    .dataframe thead th {\n",
       "        text-align: right;\n",
       "    }\n",
       "</style>\n",
       "<table border=\"1\" class=\"dataframe\">\n",
       "  <thead>\n",
       "    <tr style=\"text-align: right;\">\n",
       "      <th></th>\n",
       "      <th>Latitude</th>\n",
       "      <th>Tenure_Months</th>\n",
       "      <th>Monthly_Charges</th>\n",
       "      <th>Churn_Value</th>\n",
       "      <th>City_Acton</th>\n",
       "      <th>City_Adelanto</th>\n",
       "      <th>City_Adin</th>\n",
       "      <th>City_Agoura_Hills</th>\n",
       "      <th>City_Aguanga</th>\n",
       "      <th>City_Ahwahnee</th>\n",
       "      <th>...</th>\n",
       "      <th>Streaming_TV_No_internet_service</th>\n",
       "      <th>Streaming_TV_Yes</th>\n",
       "      <th>Streaming_Movies_No_internet_service</th>\n",
       "      <th>Streaming_Movies_Yes</th>\n",
       "      <th>Contract_One_year</th>\n",
       "      <th>Contract_Two_year</th>\n",
       "      <th>Paperless_Billing_Yes</th>\n",
       "      <th>Payment_Method_Credit_card_(automatic)</th>\n",
       "      <th>Payment_Method_Electronic_check</th>\n",
       "      <th>Payment_Method_Mailed_check</th>\n",
       "    </tr>\n",
       "  </thead>\n",
       "  <tbody>\n",
       "    <tr>\n",
       "      <th>0</th>\n",
       "      <td>33.964131</td>\n",
       "      <td>-1.495444</td>\n",
       "      <td>-0.342665</td>\n",
       "      <td>1</td>\n",
       "      <td>0</td>\n",
       "      <td>0</td>\n",
       "      <td>0</td>\n",
       "      <td>0</td>\n",
       "      <td>0</td>\n",
       "      <td>0</td>\n",
       "      <td>...</td>\n",
       "      <td>0</td>\n",
       "      <td>0</td>\n",
       "      <td>0</td>\n",
       "      <td>0</td>\n",
       "      <td>0</td>\n",
       "      <td>0</td>\n",
       "      <td>1</td>\n",
       "      <td>0</td>\n",
       "      <td>0</td>\n",
       "      <td>1</td>\n",
       "    </tr>\n",
       "    <tr>\n",
       "      <th>1</th>\n",
       "      <td>34.059281</td>\n",
       "      <td>-1.495444</td>\n",
       "      <td>0.213545</td>\n",
       "      <td>1</td>\n",
       "      <td>0</td>\n",
       "      <td>0</td>\n",
       "      <td>0</td>\n",
       "      <td>0</td>\n",
       "      <td>0</td>\n",
       "      <td>0</td>\n",
       "      <td>...</td>\n",
       "      <td>0</td>\n",
       "      <td>0</td>\n",
       "      <td>0</td>\n",
       "      <td>0</td>\n",
       "      <td>0</td>\n",
       "      <td>0</td>\n",
       "      <td>1</td>\n",
       "      <td>0</td>\n",
       "      <td>1</td>\n",
       "      <td>0</td>\n",
       "    </tr>\n",
       "    <tr>\n",
       "      <th>2</th>\n",
       "      <td>34.048013</td>\n",
       "      <td>-0.926287</td>\n",
       "      <td>1.147891</td>\n",
       "      <td>1</td>\n",
       "      <td>0</td>\n",
       "      <td>0</td>\n",
       "      <td>0</td>\n",
       "      <td>0</td>\n",
       "      <td>0</td>\n",
       "      <td>0</td>\n",
       "      <td>...</td>\n",
       "      <td>0</td>\n",
       "      <td>1</td>\n",
       "      <td>0</td>\n",
       "      <td>1</td>\n",
       "      <td>0</td>\n",
       "      <td>0</td>\n",
       "      <td>1</td>\n",
       "      <td>0</td>\n",
       "      <td>1</td>\n",
       "      <td>0</td>\n",
       "    </tr>\n",
       "    <tr>\n",
       "      <th>3</th>\n",
       "      <td>34.062125</td>\n",
       "      <td>0.080538</td>\n",
       "      <td>1.311858</td>\n",
       "      <td>1</td>\n",
       "      <td>0</td>\n",
       "      <td>0</td>\n",
       "      <td>0</td>\n",
       "      <td>0</td>\n",
       "      <td>0</td>\n",
       "      <td>0</td>\n",
       "      <td>...</td>\n",
       "      <td>0</td>\n",
       "      <td>1</td>\n",
       "      <td>0</td>\n",
       "      <td>1</td>\n",
       "      <td>0</td>\n",
       "      <td>0</td>\n",
       "      <td>1</td>\n",
       "      <td>0</td>\n",
       "      <td>1</td>\n",
       "      <td>0</td>\n",
       "    </tr>\n",
       "    <tr>\n",
       "      <th>4</th>\n",
       "      <td>34.039224</td>\n",
       "      <td>0.761599</td>\n",
       "      <td>1.276886</td>\n",
       "      <td>1</td>\n",
       "      <td>0</td>\n",
       "      <td>0</td>\n",
       "      <td>0</td>\n",
       "      <td>0</td>\n",
       "      <td>0</td>\n",
       "      <td>0</td>\n",
       "      <td>...</td>\n",
       "      <td>0</td>\n",
       "      <td>1</td>\n",
       "      <td>0</td>\n",
       "      <td>1</td>\n",
       "      <td>0</td>\n",
       "      <td>0</td>\n",
       "      <td>1</td>\n",
       "      <td>0</td>\n",
       "      <td>0</td>\n",
       "      <td>0</td>\n",
       "    </tr>\n",
       "  </tbody>\n",
       "</table>\n",
       "<p>5 rows × 1159 columns</p>\n",
       "</div>"
      ],
      "text/plain": [
       "    Latitude  Tenure_Months  Monthly_Charges  Churn_Value  City_Acton  \\\n",
       "0  33.964131      -1.495444        -0.342665            1           0   \n",
       "1  34.059281      -1.495444         0.213545            1           0   \n",
       "2  34.048013      -0.926287         1.147891            1           0   \n",
       "3  34.062125       0.080538         1.311858            1           0   \n",
       "4  34.039224       0.761599         1.276886            1           0   \n",
       "\n",
       "   City_Adelanto  City_Adin  City_Agoura_Hills  City_Aguanga  City_Ahwahnee  \\\n",
       "0              0          0                  0             0              0   \n",
       "1              0          0                  0             0              0   \n",
       "2              0          0                  0             0              0   \n",
       "3              0          0                  0             0              0   \n",
       "4              0          0                  0             0              0   \n",
       "\n",
       "   ...  Streaming_TV_No_internet_service  Streaming_TV_Yes  \\\n",
       "0  ...                                 0                 0   \n",
       "1  ...                                 0                 0   \n",
       "2  ...                                 0                 1   \n",
       "3  ...                                 0                 1   \n",
       "4  ...                                 0                 1   \n",
       "\n",
       "   Streaming_Movies_No_internet_service  Streaming_Movies_Yes  \\\n",
       "0                                     0                     0   \n",
       "1                                     0                     0   \n",
       "2                                     0                     1   \n",
       "3                                     0                     1   \n",
       "4                                     0                     1   \n",
       "\n",
       "   Contract_One_year  Contract_Two_year  Paperless_Billing_Yes  \\\n",
       "0                  0                  0                      1   \n",
       "1                  0                  0                      1   \n",
       "2                  0                  0                      1   \n",
       "3                  0                  0                      1   \n",
       "4                  0                  0                      1   \n",
       "\n",
       "   Payment_Method_Credit_card_(automatic)  Payment_Method_Electronic_check  \\\n",
       "0                                       0                                0   \n",
       "1                                       0                                1   \n",
       "2                                       0                                1   \n",
       "3                                       0                                1   \n",
       "4                                       0                                0   \n",
       "\n",
       "   Payment_Method_Mailed_check  \n",
       "0                            1  \n",
       "1                            0  \n",
       "2                            0  \n",
       "3                            0  \n",
       "4                            0  \n",
       "\n",
       "[5 rows x 1159 columns]"
      ]
     },
     "execution_count": 27,
     "metadata": {},
     "output_type": "execute_result"
    }
   ],
   "source": [
    "df_encoded.head()"
   ]
  },
  {
   "cell_type": "markdown",
   "id": "a1acfcaf",
   "metadata": {},
   "source": [
    "The number of variables has increased trastically after one-hot encoding. We will use dimentionality reduction technique later to reduce the number of dimentions."
   ]
  },
  {
   "cell_type": "markdown",
   "id": "faac0614",
   "metadata": {},
   "source": [
    "### Splitting the data into Training & Test sets"
   ]
  },
  {
   "cell_type": "code",
   "execution_count": 28,
   "id": "2921b706",
   "metadata": {},
   "outputs": [],
   "source": [
    "y = df_encoded['Churn_Value']\n",
    "X = df_encoded.drop('Churn_Value', axis=1, inplace=False)"
   ]
  },
  {
   "cell_type": "code",
   "execution_count": 29,
   "id": "981e6ae9",
   "metadata": {},
   "outputs": [
    {
     "data": {
      "image/png": "[encoded data removed]",
      "text/plain": [
       "<Figure size 300x300 with 1 Axes>"
      ]
     },
     "metadata": {},
     "output_type": "display_data"
    }
   ],
   "source": [
    "# Looking at the distribution of the target variable 'Churn_Value'\n",
    "\n",
    "pd.value_counts(y).plot(kind='pie',\n",
    "                        y='Attrition_Flag',\n",
    "                        title='Target Variable',\n",
    "                        colors = ['lightgreen', 'red'],\n",
    "                        shadow=True,\n",
    "                        figsize=(3,3),\n",
    "                        autopct='%1.1f%%');"
   ]
  },
  {
   "cell_type": "markdown",
   "id": "566aad0f",
   "metadata": {},
   "source": [
    "There is clearly a class imbalance problem with the target variable here which we have to address during modeling"
   ]
  },
  {
   "cell_type": "code",
   "execution_count": 30,
   "id": "463f704e",
   "metadata": {},
   "outputs": [],
   "source": [
    "# Splitting the data into 75:25 for Training & testing\n",
    "\n",
    "X_train, X_test, y_train, y_test = train_test_split(X, y, test_size=0.25, random_state=40, stratify=y)"
   ]
  },
  {
   "cell_type": "code",
   "execution_count": 31,
   "id": "be1c3b09",
   "metadata": {},
   "outputs": [
    {
     "name": "stdout",
     "output_type": "stream",
     "text": [
      "(5282, 1158)\n",
      "(1761, 1158)\n"
     ]
    }
   ],
   "source": [
    "# Checking data set dimensions\n",
    "\n",
    "print(X_train.shape)\n",
    "print(X_test.shape)"
   ]
  },
  {
   "cell_type": "markdown",
   "id": "3136daa4",
   "metadata": {},
   "source": [
    "### Dimensionality reduction"
   ]
  },
  {
   "cell_type": "markdown",
   "id": "c74858ca",
   "metadata": {},
   "source": [
    "We will be using Principal Component Analysis(PCA) for dimentionality reduction"
   ]
  },
  {
   "cell_type": "code",
   "execution_count": 32,
   "id": "5ae91d1d",
   "metadata": {},
   "outputs": [
    {
     "name": "stdout",
     "output_type": "stream",
     "text": [
      "Actual number of components: 1158\n"
     ]
    }
   ],
   "source": [
    "# Using Principal Component Analysis\n",
    "\n",
    "from sklearn.decomposition import PCA\n",
    "from IPython.display import display\n",
    "\n",
    "print(f\"Actual number of components: {len(X_train.columns.values)}\")\n",
    "\n",
    "n_pc = len(X_train.columns.values)\n",
    "\n",
    "pca = PCA(n_components=n_pc)\n",
    "pca.fit(X_train)\n",
    "\n",
    "cve = pd.DataFrame(np.cumsum(pca.explained_variance_ratio_), \n",
    "                   index=range(1,n_pc+1), \n",
    "                   columns=['Cumulative Variance Explained'])"
   ]
  },
  {
   "cell_type": "markdown",
   "id": "55e3f820",
   "metadata": {},
   "source": [
    "Let's take a look at the cumulative variance explained by the first 50 Principal Components"
   ]
  },
  {
   "cell_type": "code",
   "execution_count": 33,
   "id": "ed1d32b2",
   "metadata": {},
   "outputs": [
    {
     "data": {
      "text/html": [
       "<div>\n",
       "<style scoped>\n",
       "    .dataframe tbody tr th:only-of-type {\n",
       "        vertical-align: middle;\n",
       "    }\n",
       "\n",
       "    .dataframe tbody tr th {\n",
       "        vertical-align: top;\n",
       "    }\n",
       "\n",
       "    .dataframe thead th {\n",
       "        text-align: right;\n",
       "    }\n",
       "</style>\n",
       "<table border=\"1\" class=\"dataframe\">\n",
       "  <thead>\n",
       "    <tr style=\"text-align: right;\">\n",
       "      <th></th>\n",
       "      <th>Cumulative Variance Explained</th>\n",
       "    </tr>\n",
       "  </thead>\n",
       "  <tbody>\n",
       "    <tr>\n",
       "      <th>1</th>\n",
       "      <td>0.427466</td>\n",
       "    </tr>\n",
       "    <tr>\n",
       "      <th>2</th>\n",
       "      <td>0.608755</td>\n",
       "    </tr>\n",
       "    <tr>\n",
       "      <th>3</th>\n",
       "      <td>0.695374</td>\n",
       "    </tr>\n",
       "    <tr>\n",
       "      <th>4</th>\n",
       "      <td>0.729530</td>\n",
       "    </tr>\n",
       "    <tr>\n",
       "      <th>5</th>\n",
       "      <td>0.748594</td>\n",
       "    </tr>\n",
       "    <tr>\n",
       "      <th>6</th>\n",
       "      <td>0.766281</td>\n",
       "    </tr>\n",
       "    <tr>\n",
       "      <th>7</th>\n",
       "      <td>0.783797</td>\n",
       "    </tr>\n",
       "    <tr>\n",
       "      <th>8</th>\n",
       "      <td>0.800168</td>\n",
       "    </tr>\n",
       "    <tr>\n",
       "      <th>9</th>\n",
       "      <td>0.815356</td>\n",
       "    </tr>\n",
       "    <tr>\n",
       "      <th>10</th>\n",
       "      <td>0.829787</td>\n",
       "    </tr>\n",
       "    <tr>\n",
       "      <th>11</th>\n",
       "      <td>0.842774</td>\n",
       "    </tr>\n",
       "    <tr>\n",
       "      <th>12</th>\n",
       "      <td>0.853809</td>\n",
       "    </tr>\n",
       "    <tr>\n",
       "      <th>13</th>\n",
       "      <td>0.864775</td>\n",
       "    </tr>\n",
       "    <tr>\n",
       "      <th>14</th>\n",
       "      <td>0.874789</td>\n",
       "    </tr>\n",
       "    <tr>\n",
       "      <th>15</th>\n",
       "      <td>0.884398</td>\n",
       "    </tr>\n",
       "    <tr>\n",
       "      <th>16</th>\n",
       "      <td>0.893567</td>\n",
       "    </tr>\n",
       "    <tr>\n",
       "      <th>17</th>\n",
       "      <td>0.902566</td>\n",
       "    </tr>\n",
       "    <tr>\n",
       "      <th>18</th>\n",
       "      <td>0.910282</td>\n",
       "    </tr>\n",
       "    <tr>\n",
       "      <th>19</th>\n",
       "      <td>0.917626</td>\n",
       "    </tr>\n",
       "    <tr>\n",
       "      <th>20</th>\n",
       "      <td>0.923421</td>\n",
       "    </tr>\n",
       "    <tr>\n",
       "      <th>21</th>\n",
       "      <td>0.927198</td>\n",
       "    </tr>\n",
       "    <tr>\n",
       "      <th>22</th>\n",
       "      <td>0.930758</td>\n",
       "    </tr>\n",
       "    <tr>\n",
       "      <th>23</th>\n",
       "      <td>0.933650</td>\n",
       "    </tr>\n",
       "    <tr>\n",
       "      <th>24</th>\n",
       "      <td>0.935051</td>\n",
       "    </tr>\n",
       "    <tr>\n",
       "      <th>25</th>\n",
       "      <td>0.936198</td>\n",
       "    </tr>\n",
       "    <tr>\n",
       "      <th>26</th>\n",
       "      <td>0.937313</td>\n",
       "    </tr>\n",
       "    <tr>\n",
       "      <th>27</th>\n",
       "      <td>0.938350</td>\n",
       "    </tr>\n",
       "    <tr>\n",
       "      <th>28</th>\n",
       "      <td>0.938923</td>\n",
       "    </tr>\n",
       "    <tr>\n",
       "      <th>29</th>\n",
       "      <td>0.939488</td>\n",
       "    </tr>\n",
       "    <tr>\n",
       "      <th>30</th>\n",
       "      <td>0.940035</td>\n",
       "    </tr>\n",
       "    <tr>\n",
       "      <th>31</th>\n",
       "      <td>0.940456</td>\n",
       "    </tr>\n",
       "    <tr>\n",
       "      <th>32</th>\n",
       "      <td>0.940862</td>\n",
       "    </tr>\n",
       "    <tr>\n",
       "      <th>33</th>\n",
       "      <td>0.941230</td>\n",
       "    </tr>\n",
       "    <tr>\n",
       "      <th>34</th>\n",
       "      <td>0.941548</td>\n",
       "    </tr>\n",
       "    <tr>\n",
       "      <th>35</th>\n",
       "      <td>0.941863</td>\n",
       "    </tr>\n",
       "    <tr>\n",
       "      <th>36</th>\n",
       "      <td>0.942154</td>\n",
       "    </tr>\n",
       "    <tr>\n",
       "      <th>37</th>\n",
       "      <td>0.942443</td>\n",
       "    </tr>\n",
       "    <tr>\n",
       "      <th>38</th>\n",
       "      <td>0.942721</td>\n",
       "    </tr>\n",
       "    <tr>\n",
       "      <th>39</th>\n",
       "      <td>0.942997</td>\n",
       "    </tr>\n",
       "    <tr>\n",
       "      <th>40</th>\n",
       "      <td>0.943272</td>\n",
       "    </tr>\n",
       "    <tr>\n",
       "      <th>41</th>\n",
       "      <td>0.943536</td>\n",
       "    </tr>\n",
       "    <tr>\n",
       "      <th>42</th>\n",
       "      <td>0.943801</td>\n",
       "    </tr>\n",
       "    <tr>\n",
       "      <th>43</th>\n",
       "      <td>0.944062</td>\n",
       "    </tr>\n",
       "    <tr>\n",
       "      <th>44</th>\n",
       "      <td>0.944314</td>\n",
       "    </tr>\n",
       "    <tr>\n",
       "      <th>45</th>\n",
       "      <td>0.944564</td>\n",
       "    </tr>\n",
       "    <tr>\n",
       "      <th>46</th>\n",
       "      <td>0.944812</td>\n",
       "    </tr>\n",
       "    <tr>\n",
       "      <th>47</th>\n",
       "      <td>0.945050</td>\n",
       "    </tr>\n",
       "    <tr>\n",
       "      <th>48</th>\n",
       "      <td>0.945287</td>\n",
       "    </tr>\n",
       "    <tr>\n",
       "      <th>49</th>\n",
       "      <td>0.945519</td>\n",
       "    </tr>\n",
       "    <tr>\n",
       "      <th>50</th>\n",
       "      <td>0.945731</td>\n",
       "    </tr>\n",
       "  </tbody>\n",
       "</table>\n",
       "</div>"
      ],
      "text/plain": [
       "    Cumulative Variance Explained\n",
       "1                        0.427466\n",
       "2                        0.608755\n",
       "3                        0.695374\n",
       "4                        0.729530\n",
       "5                        0.748594\n",
       "6                        0.766281\n",
       "7                        0.783797\n",
       "8                        0.800168\n",
       "9                        0.815356\n",
       "10                       0.829787\n",
       "11                       0.842774\n",
       "12                       0.853809\n",
       "13                       0.864775\n",
       "14                       0.874789\n",
       "15                       0.884398\n",
       "16                       0.893567\n",
       "17                       0.902566\n",
       "18                       0.910282\n",
       "19                       0.917626\n",
       "20                       0.923421\n",
       "21                       0.927198\n",
       "22                       0.930758\n",
       "23                       0.933650\n",
       "24                       0.935051\n",
       "25                       0.936198\n",
       "26                       0.937313\n",
       "27                       0.938350\n",
       "28                       0.938923\n",
       "29                       0.939488\n",
       "30                       0.940035\n",
       "31                       0.940456\n",
       "32                       0.940862\n",
       "33                       0.941230\n",
       "34                       0.941548\n",
       "35                       0.941863\n",
       "36                       0.942154\n",
       "37                       0.942443\n",
       "38                       0.942721\n",
       "39                       0.942997\n",
       "40                       0.943272\n",
       "41                       0.943536\n",
       "42                       0.943801\n",
       "43                       0.944062\n",
       "44                       0.944314\n",
       "45                       0.944564\n",
       "46                       0.944812\n",
       "47                       0.945050\n",
       "48                       0.945287\n",
       "49                       0.945519\n",
       "50                       0.945731"
      ]
     },
     "metadata": {},
     "output_type": "display_data"
    }
   ],
   "source": [
    "display(cve.head(50))"
   ]
  },
  {
   "cell_type": "code",
   "execution_count": 34,
   "id": "ac7dc327",
   "metadata": {},
   "outputs": [
    {
     "data": {
      "text/plain": [
       "Text(0, 0.5, 'Variance Explained')"
      ]
     },
     "execution_count": 34,
     "metadata": {},
     "output_type": "execute_result"
    },
    {
     "data": {
      "image/png": "[encoded data removed]",
      "text/plain": [
       "<Figure size 1400x900 with 1 Axes>"
      ]
     },
     "metadata": {},
     "output_type": "display_data"
    }
   ],
   "source": [
    "# Plotting on a graph\n",
    "\n",
    "fig=plt.figure(1, figsize=(14,9))\n",
    "plt.grid(visible=True, which='major', axis='both')\n",
    "plt.plot(pca.explained_variance_ratio_[:30], marker='o', color='#20c8b8')\n",
    "plt.plot(np.cumsum(pca.explained_variance_ratio_[:30]), marker='o', color='#e8a000')\n",
    "n_pc = 30\n",
    "plt.xticks([n for n in range(0,n_pc)], [ str(n) for n in range(1,n_pc+1)])\n",
    "plt.legend([\"Variance explained by a single component\", \"Cumulative variance explained\"])\n",
    "plt.xlabel('Number of principal components')\n",
    "plt.ylabel('Variance Explained')"
   ]
  },
  {
   "cell_type": "markdown",
   "id": "ef6fc8c1",
   "metadata": {},
   "source": [
    "Clearly, till PC25 there is increase in cumulative variance explained, after that the graph plateaus and increases very slowly. So taking first 25 principal component captures **93.6%** of the variance explained. This is good because now using PCA we have come down drastically from 1158 to 25 dimentions."
   ]
  },
  {
   "cell_type": "code",
   "execution_count": 35,
   "id": "d17d3c4d",
   "metadata": {},
   "outputs": [
    {
     "data": {
      "text/html": [
       "<div>\n",
       "<style scoped>\n",
       "    .dataframe tbody tr th:only-of-type {\n",
       "        vertical-align: middle;\n",
       "    }\n",
       "\n",
       "    .dataframe tbody tr th {\n",
       "        vertical-align: top;\n",
       "    }\n",
       "\n",
       "    .dataframe thead th {\n",
       "        text-align: right;\n",
       "    }\n",
       "</style>\n",
       "<table border=\"1\" class=\"dataframe\">\n",
       "  <thead>\n",
       "    <tr style=\"text-align: right;\">\n",
       "      <th></th>\n",
       "      <th>PC1</th>\n",
       "      <th>PC2</th>\n",
       "      <th>PC3</th>\n",
       "      <th>PC4</th>\n",
       "      <th>PC5</th>\n",
       "      <th>PC6</th>\n",
       "      <th>PC7</th>\n",
       "      <th>PC8</th>\n",
       "      <th>PC9</th>\n",
       "      <th>PC10</th>\n",
       "      <th>...</th>\n",
       "      <th>PC16</th>\n",
       "      <th>PC17</th>\n",
       "      <th>PC18</th>\n",
       "      <th>PC19</th>\n",
       "      <th>PC20</th>\n",
       "      <th>PC21</th>\n",
       "      <th>PC22</th>\n",
       "      <th>PC23</th>\n",
       "      <th>PC24</th>\n",
       "      <th>PC25</th>\n",
       "    </tr>\n",
       "  </thead>\n",
       "  <tbody>\n",
       "    <tr>\n",
       "      <th>0</th>\n",
       "      <td>-0.633130</td>\n",
       "      <td>-1.956039</td>\n",
       "      <td>1.137770</td>\n",
       "      <td>-0.071394</td>\n",
       "      <td>-0.088692</td>\n",
       "      <td>0.721865</td>\n",
       "      <td>-0.147009</td>\n",
       "      <td>0.357733</td>\n",
       "      <td>0.955269</td>\n",
       "      <td>0.507102</td>\n",
       "      <td>...</td>\n",
       "      <td>0.375241</td>\n",
       "      <td>-0.821597</td>\n",
       "      <td>-0.017992</td>\n",
       "      <td>0.202529</td>\n",
       "      <td>-0.012576</td>\n",
       "      <td>0.348318</td>\n",
       "      <td>0.133210</td>\n",
       "      <td>0.019811</td>\n",
       "      <td>-0.032753</td>\n",
       "      <td>-0.009095</td>\n",
       "    </tr>\n",
       "    <tr>\n",
       "      <th>1</th>\n",
       "      <td>2.229694</td>\n",
       "      <td>-2.118985</td>\n",
       "      <td>0.678803</td>\n",
       "      <td>-0.367717</td>\n",
       "      <td>-0.502113</td>\n",
       "      <td>0.065670</td>\n",
       "      <td>-0.652849</td>\n",
       "      <td>-0.151480</td>\n",
       "      <td>0.546372</td>\n",
       "      <td>0.859309</td>\n",
       "      <td>...</td>\n",
       "      <td>0.192874</td>\n",
       "      <td>-1.211021</td>\n",
       "      <td>-0.039436</td>\n",
       "      <td>0.537685</td>\n",
       "      <td>0.110310</td>\n",
       "      <td>-0.071779</td>\n",
       "      <td>-0.165833</td>\n",
       "      <td>-0.034280</td>\n",
       "      <td>0.024270</td>\n",
       "      <td>-0.000923</td>\n",
       "    </tr>\n",
       "    <tr>\n",
       "      <th>2</th>\n",
       "      <td>3.526953</td>\n",
       "      <td>-0.217847</td>\n",
       "      <td>-0.744038</td>\n",
       "      <td>-0.030686</td>\n",
       "      <td>0.127832</td>\n",
       "      <td>-0.634537</td>\n",
       "      <td>0.151255</td>\n",
       "      <td>-0.207807</td>\n",
       "      <td>-0.258511</td>\n",
       "      <td>0.092669</td>\n",
       "      <td>...</td>\n",
       "      <td>-0.108789</td>\n",
       "      <td>-0.259783</td>\n",
       "      <td>-0.630917</td>\n",
       "      <td>-0.345620</td>\n",
       "      <td>-0.551506</td>\n",
       "      <td>0.374942</td>\n",
       "      <td>0.264737</td>\n",
       "      <td>0.038824</td>\n",
       "      <td>0.042809</td>\n",
       "      <td>0.006248</td>\n",
       "    </tr>\n",
       "    <tr>\n",
       "      <th>3</th>\n",
       "      <td>-2.446565</td>\n",
       "      <td>0.083218</td>\n",
       "      <td>-2.199330</td>\n",
       "      <td>-0.349362</td>\n",
       "      <td>0.506687</td>\n",
       "      <td>-0.360536</td>\n",
       "      <td>0.423688</td>\n",
       "      <td>-0.204744</td>\n",
       "      <td>-0.199159</td>\n",
       "      <td>-0.021948</td>\n",
       "      <td>...</td>\n",
       "      <td>0.202923</td>\n",
       "      <td>0.375396</td>\n",
       "      <td>-0.064261</td>\n",
       "      <td>0.533894</td>\n",
       "      <td>-0.048803</td>\n",
       "      <td>0.103509</td>\n",
       "      <td>-0.291668</td>\n",
       "      <td>-0.039011</td>\n",
       "      <td>-0.051256</td>\n",
       "      <td>-0.003742</td>\n",
       "    </tr>\n",
       "    <tr>\n",
       "      <th>4</th>\n",
       "      <td>-1.930153</td>\n",
       "      <td>2.938884</td>\n",
       "      <td>0.285711</td>\n",
       "      <td>-0.238448</td>\n",
       "      <td>-0.228769</td>\n",
       "      <td>-0.134680</td>\n",
       "      <td>-0.917004</td>\n",
       "      <td>0.203396</td>\n",
       "      <td>0.841695</td>\n",
       "      <td>-0.188270</td>\n",
       "      <td>...</td>\n",
       "      <td>0.020386</td>\n",
       "      <td>0.012955</td>\n",
       "      <td>0.027240</td>\n",
       "      <td>-0.001293</td>\n",
       "      <td>0.066503</td>\n",
       "      <td>-0.057188</td>\n",
       "      <td>-0.186708</td>\n",
       "      <td>-0.067151</td>\n",
       "      <td>-0.056200</td>\n",
       "      <td>0.005501</td>\n",
       "    </tr>\n",
       "  </tbody>\n",
       "</table>\n",
       "<p>5 rows × 25 columns</p>\n",
       "</div>"
      ],
      "text/plain": [
       "        PC1       PC2       PC3       PC4       PC5       PC6       PC7  \\\n",
       "0 -0.633130 -1.956039  1.137770 -0.071394 -0.088692  0.721865 -0.147009   \n",
       "1  2.229694 -2.118985  0.678803 -0.367717 -0.502113  0.065670 -0.652849   \n",
       "2  3.526953 -0.217847 -0.744038 -0.030686  0.127832 -0.634537  0.151255   \n",
       "3 -2.446565  0.083218 -2.199330 -0.349362  0.506687 -0.360536  0.423688   \n",
       "4 -1.930153  2.938884  0.285711 -0.238448 -0.228769 -0.134680 -0.917004   \n",
       "\n",
       "        PC8       PC9      PC10  ...      PC16      PC17      PC18      PC19  \\\n",
       "0  0.357733  0.955269  0.507102  ...  0.375241 -0.821597 -0.017992  0.202529   \n",
       "1 -0.151480  0.546372  0.859309  ...  0.192874 -1.211021 -0.039436  0.537685   \n",
       "2 -0.207807 -0.258511  0.092669  ... -0.108789 -0.259783 -0.630917 -0.345620   \n",
       "3 -0.204744 -0.199159 -0.021948  ...  0.202923  0.375396 -0.064261  0.533894   \n",
       "4  0.203396  0.841695 -0.188270  ...  0.020386  0.012955  0.027240 -0.001293   \n",
       "\n",
       "       PC20      PC21      PC22      PC23      PC24      PC25  \n",
       "0 -0.012576  0.348318  0.133210  0.019811 -0.032753 -0.009095  \n",
       "1  0.110310 -0.071779 -0.165833 -0.034280  0.024270 -0.000923  \n",
       "2 -0.551506  0.374942  0.264737  0.038824  0.042809  0.006248  \n",
       "3 -0.048803  0.103509 -0.291668 -0.039011 -0.051256 -0.003742  \n",
       "4  0.066503 -0.057188 -0.186708 -0.067151 -0.056200  0.005501  \n",
       "\n",
       "[5 rows x 25 columns]"
      ]
     },
     "execution_count": 35,
     "metadata": {},
     "output_type": "execute_result"
    }
   ],
   "source": [
    "n_pc = 25\n",
    "pca = PCA(n_components=n_pc)\n",
    "pca.fit(X_train)\n",
    "\n",
    "X_25d_train= pd.DataFrame(pca.transform(X_train))\n",
    "X_25d_test = pd.DataFrame(pca.transform(X_test))\n",
    "\n",
    "X_25d_train.columns = ['PC' + str(i) for i in range(1, n_pc+1) ]\n",
    "X_25d_test.columns = ['PC' + str(i) for i in range(1, n_pc+1) ]\n",
    "\n",
    "# Just taking a look at the first 5 observations(transformed values) of the train data PCs\n",
    "X_25d_train.head()"
   ]
  },
  {
   "cell_type": "code",
   "execution_count": 36,
   "id": "8ccf76c8",
   "metadata": {},
   "outputs": [
    {
     "name": "stdout",
     "output_type": "stream",
     "text": [
      "(5282, 25)\n",
      "(1761, 25)\n"
     ]
    }
   ],
   "source": [
    "X_train = X_25d_train\n",
    "X_test = X_25d_test\n",
    "\n",
    "print(X_train.shape)\n",
    "print(X_test.shape)"
   ]
  },
  {
   "cell_type": "markdown",
   "id": "8da1095f",
   "metadata": {},
   "source": [
    "### Using SMOTE technique to address the Target class imbalance problem"
   ]
  },
  {
   "cell_type": "markdown",
   "id": "97e203f5",
   "metadata": {},
   "source": [
    "SMOTE stands for Synthetic Minority Oversampling Technique. SMOTE is an improved method of dealing with imbalanced data in classification problems. It is an algorithm that performs data augmentation by creating synthetic data points based on the original data points. SMOTE can be seen as an advanced version of oversampling, or as a specific algorithm for data augmentation. The advantage of SMOTE is that we are not generating duplicates, but rather creating synthetic data points that are slightly different from the original data points."
   ]
  },
  {
   "cell_type": "code",
   "execution_count": 37,
   "id": "6c6fc507",
   "metadata": {},
   "outputs": [],
   "source": [
    "smote = SMOTE()\n",
    "X_train_balance, y_train_balance = smote.fit_resample(X_train, y_train)"
   ]
  },
  {
   "cell_type": "code",
   "execution_count": 38,
   "id": "bf58b8b3",
   "metadata": {},
   "outputs": [
    {
     "data": {
      "text/plain": [
       "Target\n",
       "0         3880\n",
       "1         3880\n",
       "dtype: int64"
      ]
     },
     "execution_count": 38,
     "metadata": {},
     "output_type": "execute_result"
    }
   ],
   "source": [
    "# Let's check out the target variable class distribution now\n",
    "\n",
    "pd.DataFrame(data=list(y_train_balance), columns=['Target']).value_counts()"
   ]
  },
  {
   "cell_type": "markdown",
   "id": "6e47acd0",
   "metadata": {},
   "source": [
    "### Model building"
   ]
  },
  {
   "cell_type": "markdown",
   "id": "e38985e6",
   "metadata": {},
   "source": [
    "We shall first build an XGBOOST classifier for this task. XGBOOST is well known to perform extremely well on tabular data. Later on we shall try one more classification algorithm and then compare the two."
   ]
  },
  {
   "cell_type": "code",
   "execution_count": 39,
   "id": "c27a157c",
   "metadata": {},
   "outputs": [
    {
     "name": "stdout",
     "output_type": "stream",
     "text": [
      "Best configuration found for XGBClassifier(base_score=None, booster=None, callbacks=None,\n",
      "              colsample_bylevel=None, colsample_bynode=None,\n",
      "              colsample_bytree=None, early_stopping_rounds=None,\n",
      "              enable_categorical=False, eval_metric=None, gamma=None,\n",
      "              gpu_id=None, grow_policy=None, importance_type=None,\n",
      "              interaction_constraints=None, learning_rate=None, max_bin=None,\n",
      "              max_cat_to_onehot=None, max_delta_step=None, max_depth=None,\n",
      "              max_leaves=None, min_child_weight=None, missing=nan,\n",
      "              monotone_constraints=None, n_estimators=100, n_jobs=None,\n",
      "              num_parallel_tree=None, predictor=None, random_state=None,\n",
      "              reg_alpha=None, reg_lambda=None, ...):\n",
      "\n",
      " {'xgbclassifier__colsample_bytree': 0.5, 'xgbclassifier__learning_rate': 0.2, 'xgbclassifier__max_depth': 10, 'xgbclassifier__min_child_weight': 2, 'xgbclassifier__n_estimators': 200, 'xgbclassifier__n_jobs': -1, 'xgbclassifier__objective': 'binary:logistic', 'xgbclassifier__subsample': 1}\n"
     ]
    }
   ],
   "source": [
    "# We shall use Grid Search Cross-validation to find out optimal hyperparameters for XGBOOST classifier\n",
    "\n",
    "parameter_grid = {\n",
    "        'objective': ['binary:logistic'],            \n",
    "        'max_depth': [5,10],\n",
    "        'subsample': [0.3,0.6,1],\n",
    "        'colsample_bytree': [0.1,0.5,1],\n",
    "        'min_child_weight': [1,2,3],\n",
    "        'n_estimators': [50,100,200],\n",
    "        'learning_rate': [0.1,0.2],\n",
    "        'n_jobs': [-1]\n",
    "}\n",
    "\n",
    "clf_name = 'xgbclassifier__'\n",
    "classifier = xgboost.XGBClassifier()\n",
    "\n",
    "new_params = {clf_name + key: parameter_grid[key] for key in parameter_grid}\n",
    "\n",
    "kf = StratifiedKFold(n_splits=5, shuffle=True, random_state=40) # 5-fold Cross Validation\n",
    "imba_pipeline = make_pipeline(classifier)\n",
    "SCORE = 'accuracy' \n",
    "grid_imba = GridSearchCV(imba_pipeline, param_grid=new_params, cv=kf, scoring=SCORE, return_train_score=True)\n",
    "grid_imba.fit(X_train_balance, y_train_balance)\n",
    "\n",
    "print(f\"Best configuration found for {classifier}:\")\n",
    "print(\"\\n\", grid_imba.best_params_)"
   ]
  },
  {
   "cell_type": "code",
   "execution_count": 40,
   "id": "ff48fd9a",
   "metadata": {},
   "outputs": [
    {
     "name": "stdout",
     "output_type": "stream",
     "text": [
      "Test F1 score:  0.71\n",
      "Test ROC_AUC score:  0.72\n",
      "\n",
      "Test set:\n",
      "               precision    recall  f1-score   support\n",
      "\n",
      "           0       0.86      0.81      0.83      1294\n",
      "           1       0.54      0.62      0.58       467\n",
      "\n",
      "    accuracy                           0.76      1761\n",
      "   macro avg       0.70      0.72      0.71      1761\n",
      "weighted avg       0.77      0.76      0.77      1761\n",
      "\n",
      "Confusion Matrix:\n",
      " [[1048  246]\n",
      " [ 176  291]]\n"
     ]
    },
    {
     "data": {
      "image/png": "[encoded data removed]",
      "text/plain": [
       "<Figure size 640x480 with 2 Axes>"
      ]
     },
     "metadata": {},
     "output_type": "display_data"
    }
   ],
   "source": [
    "classifier.fit(X_train_balance, y_train_balance)\n",
    "y_pred_test = classifier.predict(X_test)\n",
    "\n",
    "# Checking for test set\n",
    "\n",
    "xgb_f1 = round(f1_score(y_test, y_pred_test, average='macro'),2)\n",
    "xgb_auc = round(roc_auc_score(y_test, y_pred_test, average='macro'),2)\n",
    "print(\"Test F1 score: \", xgb_f1)\n",
    "print(\"Test ROC_AUC score: \", xgb_auc)\n",
    "print(\"\\nTest set:\\n\", classification_report(y_test, y_pred_test))\n",
    "\n",
    "print(\"Confusion Matrix:\\n\", confusion_matrix(y_test, y_pred_test))\n",
    "ConfusionMatrixDisplay.from_predictions(y_test, y_pred_test, cmap='Oranges', normalize='true');"
   ]
  },
  {
   "cell_type": "markdown",
   "id": "da21687c",
   "metadata": {},
   "source": [
    "We shall try one more classification algorithm for this problem"
   ]
  },
  {
   "cell_type": "markdown",
   "id": "8c6cf971",
   "metadata": {},
   "source": [
    "### Weighted Neural Network"
   ]
  },
  {
   "cell_type": "markdown",
   "id": "845e5b52",
   "metadata": {},
   "source": [
    "Typically, careful attention is required when defining the costs or “weightings” to use for cost-sensitive learning. However, for imbalanced classification where only misclassification is the focus, the weighting can use the inverse of the class distribution observed in the training dataset.\n",
    "\n",
    "The Tensorflow Keras deep learning library provides support for class weighting. The fit() function that is used to train Keras neural network models takes an argument called 'class_weight'. This argument allows us to define a dictionary that maps class integer values to the weights to apply to each class."
   ]
  },
  {
   "cell_type": "code",
   "execution_count": 41,
   "id": "95e398c9",
   "metadata": {},
   "outputs": [
    {
     "name": "stdout",
     "output_type": "stream",
     "text": [
      "Model: \"Weighted_Neural_Network\"\n",
      "_________________________________________________________________\n",
      " Layer (type)                Output Shape              Param #   \n",
      "=================================================================\n",
      " dense (Dense)               (None, 32)                832       \n",
      "                                                                 \n",
      " dense_1 (Dense)             (None, 32)                1056      \n",
      "                                                                 \n",
      " dense_2 (Dense)             (None, 1)                 33        \n",
      "                                                                 \n",
      "=================================================================\n",
      "Total params: 1,921\n",
      "Trainable params: 1,921\n",
      "Non-trainable params: 0\n",
      "_________________________________________________________________\n"
     ]
    }
   ],
   "source": [
    "import tensorflow as tf\n",
    "from tensorflow.keras.models import Sequential\n",
    "from tensorflow.keras.layers import Dense\n",
    "from numpy.random import seed\n",
    "seed(40)\n",
    "tf.keras.utils.set_random_seed(40)\n",
    "\n",
    "# defining the neural network model\n",
    "\n",
    "n_input = X_train.shape[1]\n",
    "\n",
    "model = Sequential([\n",
    "    Dense(32, input_dim=n_input, activation='relu'),\n",
    "    Dense(32, activation='relu'),\n",
    "    Dense(1, activation='sigmoid')    \n",
    "], name=\"Weighted_Neural_Network\")\n",
    "\n",
    "adam = tf.keras.optimizers.Adam(learning_rate=0.001)\n",
    "model.compile(loss='binary_crossentropy', optimizer=adam)\n",
    "model.summary()"
   ]
  },
  {
   "cell_type": "markdown",
   "id": "4d6f4148",
   "metadata": {},
   "source": [
    "The above model configuration was determined after trying out multiple iterations with different model configurations such as increasing the number of layers, increasing/decreasing number of neurons in each layer, etc. "
   ]
  },
  {
   "cell_type": "code",
   "execution_count": 42,
   "id": "a5edf63a",
   "metadata": {},
   "outputs": [
    {
     "name": "stdout",
     "output_type": "stream",
     "text": [
      "Epoch 1/100\n",
      "133/133 [==============================] - 1s 3ms/step - loss: 0.8958 - val_loss: 0.5166\n",
      "Epoch 2/100\n",
      "133/133 [==============================] - 0s 2ms/step - loss: 0.7516 - val_loss: 0.4839\n",
      "Epoch 3/100\n",
      "133/133 [==============================] - 0s 3ms/step - loss: 0.7215 - val_loss: 0.5184\n",
      "Epoch 4/100\n",
      "133/133 [==============================] - 0s 2ms/step - loss: 0.7059 - val_loss: 0.4692\n",
      "Epoch 5/100\n",
      "133/133 [==============================] - 0s 2ms/step - loss: 0.6955 - val_loss: 0.4665\n",
      "Epoch 6/100\n",
      "133/133 [==============================] - 0s 2ms/step - loss: 0.6901 - val_loss: 0.4748\n",
      "Epoch 7/100\n",
      "133/133 [==============================] - 0s 2ms/step - loss: 0.6844 - val_loss: 0.4643\n",
      "Epoch 8/100\n",
      "133/133 [==============================] - 0s 2ms/step - loss: 0.6797 - val_loss: 0.4407\n",
      "Epoch 9/100\n",
      "133/133 [==============================] - 0s 2ms/step - loss: 0.6760 - val_loss: 0.4548\n",
      "Epoch 10/100\n",
      "133/133 [==============================] - 0s 3ms/step - loss: 0.6719 - val_loss: 0.4795\n",
      "Epoch 11/100\n",
      "133/133 [==============================] - 0s 2ms/step - loss: 0.6754 - val_loss: 0.4599\n",
      "Epoch 12/100\n",
      "133/133 [==============================] - 0s 1ms/step - loss: 0.6640 - val_loss: 0.4676\n",
      "Epoch 13/100\n",
      "133/133 [==============================] - 0s 2ms/step - loss: 0.6611 - val_loss: 0.4729\n",
      "56/56 [==============================] - 0s 1ms/step\n"
     ]
    }
   ],
   "source": [
    "# Wighted Neural Network\n",
    "\n",
    "weights = {0:1, 1:3}\n",
    "es = tf.keras.callbacks.EarlyStopping(\n",
    "    monitor=\"val_loss\",\n",
    "    patience=5,\n",
    "    mode=\"auto\",\n",
    "    restore_best_weights=True\n",
    ")\n",
    "\n",
    "# Train the model\n",
    "history = model.fit(X_train, y_train, class_weight=weights, validation_split=0.2,\n",
    "                    epochs=100, callbacks=[es], verbose=1)\n",
    "\n",
    "# Predict using the trained model\n",
    "yhat = model.predict(X_test)"
   ]
  },
  {
   "cell_type": "code",
   "execution_count": 44,
   "id": "2f831e01",
   "metadata": {},
   "outputs": [
    {
     "data": {
      "image/png": "[encoded data removed]",
      "text/plain": [
       "<Figure size 700x500 with 1 Axes>"
      ]
     },
     "metadata": {},
     "output_type": "display_data"
    },
    {
     "name": "stdout",
     "output_type": "stream",
     "text": [
      "Test F1 score:  0.73\n",
      "Test AUC_ROC score:  0.77\n",
      "\n",
      "               precision    recall  f1-score   support\n",
      "\n",
      "           0       0.91      0.74      0.82      1294\n",
      "           1       0.53      0.80      0.64       467\n",
      "\n",
      "    accuracy                           0.76      1761\n",
      "   macro avg       0.72      0.77      0.73      1761\n",
      "weighted avg       0.81      0.76      0.77      1761\n",
      "\n"
     ]
    },
    {
     "data": {
      "image/png": "[encoded data removed]",
      "text/plain": [
       "<Figure size 640x480 with 2 Axes>"
      ]
     },
     "metadata": {},
     "output_type": "display_data"
    }
   ],
   "source": [
    "def plot_graphs(history, metric):\n",
    "    \n",
    "    plt.figure(figsize=(7,5))\n",
    "    plt.plot(history.history[metric])\n",
    "    plt.plot(history.history[f'val_{metric}'])\n",
    "    plt.xlabel(\"Epochs\")\n",
    "    plt.ylabel(metric)\n",
    "    plt.legend([metric, f'val_{metric}'])\n",
    "    plt.show()\n",
    "    \n",
    "plot_graphs(history, \"loss\")\n",
    "\n",
    "nn_cm = confusion_matrix(y_test, np.around(yhat))\n",
    "nn_f1 = round(f1_score(y_test, np.around(yhat), average='macro'),2)\n",
    "nn_auc = round(roc_auc_score(y_test, np.around(yhat), average='macro'),2)\n",
    "print(\"Test F1 score: \", nn_f1)\n",
    "print(\"Test AUC_ROC score: \", nn_auc)\n",
    "print(\"\\n\", classification_report(y_test, np.around(yhat)))\n",
    "ConfusionMatrixDisplay.from_predictions(y_test, np.around(yhat), cmap='Oranges', normalize='true');"
   ]
  },
  {
   "cell_type": "markdown",
   "id": "748b280e",
   "metadata": {},
   "source": [
    "### Final Observations"
   ]
  },
  {
   "cell_type": "code",
   "execution_count": 46,
   "id": "a6878de7",
   "metadata": {},
   "outputs": [
    {
     "data": {
      "text/html": [
       "<div>\n",
       "<style scoped>\n",
       "    .dataframe tbody tr th:only-of-type {\n",
       "        vertical-align: middle;\n",
       "    }\n",
       "\n",
       "    .dataframe tbody tr th {\n",
       "        vertical-align: top;\n",
       "    }\n",
       "\n",
       "    .dataframe thead th {\n",
       "        text-align: right;\n",
       "    }\n",
       "</style>\n",
       "<table border=\"1\" class=\"dataframe\">\n",
       "  <thead>\n",
       "    <tr style=\"text-align: right;\">\n",
       "      <th></th>\n",
       "      <th>XGBOOST</th>\n",
       "      <th>Weighted Neural Network</th>\n",
       "    </tr>\n",
       "  </thead>\n",
       "  <tbody>\n",
       "    <tr>\n",
       "      <th>F1_Score</th>\n",
       "      <td>0.71</td>\n",
       "      <td>0.73</td>\n",
       "    </tr>\n",
       "    <tr>\n",
       "      <th>AUC_ROC</th>\n",
       "      <td>0.72</td>\n",
       "      <td>0.77</td>\n",
       "    </tr>\n",
       "  </tbody>\n",
       "</table>\n",
       "</div>"
      ],
      "text/plain": [
       "          XGBOOST  Weighted Neural Network\n",
       "F1_Score     0.71                     0.73\n",
       "AUC_ROC      0.72                     0.77"
      ]
     },
     "execution_count": 46,
     "metadata": {},
     "output_type": "execute_result"
    }
   ],
   "source": [
    "pd.DataFrame([[xgb_f1, nn_f1],[xgb_auc, nn_auc]], \n",
    "             index = ['F1_Score','AUC_ROC'],\n",
    "             columns = ['XGBOOST','Weighted Neural Network'])"
   ]
  },
  {
   "cell_type": "markdown",
   "id": "ceec16fb",
   "metadata": {},
   "source": [
    "The Weighted Neural Network (WNN) has performed way better than the XGBOOST model in terms of classifying the minority class (Customers that are likely to churn) although with some sacrifice in performance of the majority class classification. The overall F1 score of the WNN is also slightly better than XGBOOST classifier but the Area Under the ROC curve is much better."
   ]
  },
  {
   "cell_type": "code",
   "execution_count": null,
   "id": "626fdd7e",
   "metadata": {},
   "outputs": [],
   "source": []
  }
 ],
 "metadata": {
  "kernelspec": {
   "display_name": "Python 3 (ipykernel)",
   "language": "python",
   "name": "python3"
  },
  "language_info": {
   "codemirror_mode": {
    "name": "ipython",
    "version": 3
   },
   "file_extension": ".py",
   "mimetype": "text/x-python",
   "name": "python",
   "nbconvert_exporter": "python",
   "pygments_lexer": "ipython3",
   "version": "3.9.12"
  }
 },
 "nbformat": 4,
 "nbformat_minor": 5
}
